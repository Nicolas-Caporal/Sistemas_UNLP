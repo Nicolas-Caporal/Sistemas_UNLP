{
 "cells": [
  {
   "cell_type": "markdown",
   "id": "b015a19f",
   "metadata": {},
   "source": [
    "# Actividad 1  por Python plus - Parte I \n",
    "\n",
    "## Resolvé el siguiente desafío:"
   ]
  },
  {
   "cell_type": "markdown",
   "id": "06d13d89",
   "metadata": {},
   "source": [
    "**EJERCICIO 13:** dado el archivo denominado [log_catedras](https://archivos.linti.unlp.edu.ar/index.php/s/ofgZh41dUYMYX6H) que contiene  el registro de  accesos al entorno catedras.linti, se desea:\n",
    "1. Generar una función que retorne los usuarios que alguna vez vieron el estado de la entrega 1 desde la facultad. Esto se puede chequear si la columna \"Contexto del evento\" contiene el texto \"Tarea: Entrega 1\" y la columna \"Nombre evento\" contiene el texto \"Se ha visualizado el estado de la entrega.\" y la dirección IP comienza con \"163.10\". Esta función recibe un parámetro opcional que puede contener: \"A\", para pasar los nombres de usuario  a mayúsculas: \"a\", para pasarlos a mimúsculas o \"None\" si se dejan tal como se encuentran en el archivo. Por defecto la función retorna los nombres tales como aparecen en el archivo. \n",
    "2. Escribir un programa que, utilizando la función anterior, muestre un listado similar al siguiente:\n",
    " \n",
    "```\n",
    "---------------------\n",
    "Usuario en el sistema \n",
    "---------------------\n",
    "\n",
    "    Butterfree\n",
    "    Pikachu\n",
    "    Oddish\n",
    "    Kingler\n",
    "    Tauros\n",
    "```\n",
    "Ante igual cantidad de accesos, ordenar en forma alfabética ascendente."
   ]
  },
  {
   "cell_type": "code",
   "execution_count": 1,
   "id": "5021bb7c",
   "metadata": {},
   "outputs": [],
   "source": [
    "#Solución\n",
    "\n",
    "import csv\n",
    "\n",
    "def chequearSiVieron (nombres = 'None'):\n",
    "    \"\"\" Esta función recorre el archivo csv y retorna en una lista, los usuarios que alguna vez vieron el estado de la entrega 1.\n",
    "    Si en el parametro nombres se recibe A, retorna los nombres en mayuscula, si es 'a' los retorna en minuscula.\n",
    "    De manera predeterminada los devuelve tal cual estaban en el archivo\"\"\"\n",
    "    \n",
    "    lista = []\n",
    "    \n",
    "    with open('log_catedras.csv', 'r', encoding = 'utf-8') as archivo_csv:\n",
    "        csvreader = csv.reader(archivo_csv, delimiter = ',')\n",
    "        next(csvreader) # Avanzo para no procesar el encabezado\n",
    "        \n",
    "        for user in csvreader:\n",
    "            if ('Tarea: Entrega 1' in user[3]) and ('Se ha visualizado el estado de la entrega.' in user[4]) and (user[6].startswith('163.10')):\n",
    "                \n",
    "                if (nombres == 'A'):\n",
    "                    user[1] = user[1].upper() \n",
    "                elif nombres == 'a':\n",
    "                    user[1] = user[1].lower()\n",
    "                    \n",
    "                    \n",
    "                lista.append(user)\n",
    "        \n",
    "        return lista"
   ]
  },
  {
   "cell_type": "code",
   "execution_count": null,
   "id": "ded586b5",
   "metadata": {},
   "outputs": [],
   "source": [
    "# 2.\n",
    "\n",
    "from collections import Counter\n",
    "\n",
    "usuarios = chequearSiVieron()\n",
    "\n",
    "# Creo un objeto de tipo counter, donde se cuenta la cantidad de ocurrencias de cada nombre\n",
    "contador_usuarios = Counter([usuario[1] for usuario in usuarios])\n",
    "\n",
    "# Imprimo listado similar al solicitado\n",
    "print(\"---------------------\")\n",
    "print(\"Usuario en el sistema \")\n",
    "print(\"---------------------\")\n",
    "for usuario in contador_usuarios:\n",
    "    print(f\"    {usuario}\")\n",
    "    "
   ]
  }
 ],
 "metadata": {
  "kernelspec": {
   "display_name": "Python 3 (ipykernel)",
   "language": "python",
   "name": "python3"
  },
  "language_info": {
   "codemirror_mode": {
    "name": "ipython",
    "version": 3
   },
   "file_extension": ".py",
   "mimetype": "text/x-python",
   "name": "python",
   "nbconvert_exporter": "python",
   "pygments_lexer": "ipython3",
   "version": "3.11.0"
  }
 },
 "nbformat": 4,
 "nbformat_minor": 5
}
