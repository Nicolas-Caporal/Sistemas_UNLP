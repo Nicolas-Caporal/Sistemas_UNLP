{
 "cells": [
  {
   "cell_type": "markdown",
   "id": "14df4a10",
   "metadata": {},
   "source": [
    "# Actividad 1 por Python plus - Parte II\n",
    "\n",
    "- Sobre el ejercicio asignado:\n",
    "    - [Evaluación del trabajo asignado](#parte1.1)\n",
    "    - [Análisis del ejercicio asignado](#parte1.2)\n",
    "- Sobre este trabajo:\n",
    "    - [Corrección de la evaluación realizada](#parte2.1)\n",
    "    - [Solución alternativa](#parte2.2)\n",
    "    - [Uso de ChatGPT](#parte2.3)"
   ]
  },
  {
   "cell_type": "markdown",
   "id": "eb80dfd8",
   "metadata": {},
   "source": [
    "## Evaluación del trabajo asignado <a name=\"parte1.1\"></a>"
   ]
  },
  {
   "cell_type": "markdown",
   "id": "805c4f24",
   "metadata": {},
   "source": [
    "### Solución propuesta por tu compañero/a"
   ]
  },
  {
   "attachments": {},
   "cell_type": "markdown",
   "id": "b2c22533",
   "metadata": {},
   "source": [
    "### -- Copiá acá el enunciado a corregir --\n",
    "\n",
    "**EJERCICIO 5:** dado el archivo denominado [log_catedras](https://archivos.linti.unlp.edu.ar/index.php/s/q9b3rCrlhOS1yWU) que contiene  el registro de  accesos al entorno catedras.linti, se desea:\n",
    "1.  Generar una función que retorne qué usuarios registran accesos el día 2 de abril y en qué horarios lo hicieron. Esta función recibe un parámetro opcional que indica el orden en que se ordenan los usuarios: \"A\", si se ordena en forma ascendente, \"D\" si es descendente o \"None\" si no se aplica ningún orden. Por defecto la función no ordena. Si hay más accesos de un usuario ese día, sólo procesar el primero. \n",
    "2.  Escribir un programa que, utilizando la función anterior, muestre un listado similar al siguiente:\n",
    " \n",
    "```\n",
    "----------------------------\n",
    "Usuario en el sistema   Hora\n",
    "----------------------------\n",
    "Butterfree         08:41:47\n",
    "Pikachu            08:41:47\n",
    "Oddish             08:41:47\n",
    "Kingler            08:41:47\n",
    "Tauros             08:41:47\n",
    "```\n",
    "\n",
    "\n",
    "**URL:** https://drive.google.com/file/d/1EjF4ztgdOnj0F7dvl2NWf444nfj9IiIi/view?usp=share_link\n",
    "\n"
   ]
  },
  {
   "cell_type": "code",
   "execution_count": 23,
   "id": "05249b25",
   "metadata": {},
   "outputs": [
    {
     "name": "stdout",
     "output_type": "stream",
     "text": [
      "Usuario en el Sistema  Hora\n",
      "--------------------------\n",
      "Zubat                  04:04\n",
      "Dragonite              11:45\n",
      "Beedrill               11:54\n",
      "Cloyster               13:28\n",
      "Onix                   14:53\n",
      "Weedle                 22:05\n",
      "Snorlax                22:52\n"
     ]
    }
   ],
   "source": [
    "# COPIAR ACA LA SOLUCION A EVALUAR\n",
    "import csv\n",
    "\n",
    "def retornar_usuarios (orden= None):\n",
    "    archivo_csv = open(\"BBB_nuevo.csv\", \"r\",encoding='utf-8')\n",
    "    reader = csv.DictReader (archivo_csv)\n",
    "    usuarios = {}\n",
    "    \n",
    "    for linea in reader:\n",
    "        dia_mes = linea[\"Hora\"].split()\n",
    "        hora = dia_mes[1]\n",
    "        if dia_mes[0] == \"2/04/2022\" and linea[\"Nombre completo del usuario\"] not in usuarios:\n",
    "            usuarios[linea[\"Nombre completo del usuario\"]] = hora\n",
    "    \n",
    "    if orden == \"A\":\n",
    "        usuarios = dict(sorted(usuarios.items(),key = lambda linea: linea[1]))\n",
    "    else:\n",
    "        if orden == \"D\":\n",
    "            usuarios = dict(sorted (usuarios.items(),key = lambda linea: linea[1], reverse=True))\n",
    "    archivo_csv.close()\n",
    "    return usuarios            \n",
    "\n",
    "\n",
    "usuarios = retornar_usuarios (\"A\")\n",
    "print(\"Usuario en el Sistema  Hora\")\n",
    "print(\"--------------------------\")\n",
    "for elem in usuarios:\n",
    "    print(f\"{elem:<22} {usuarios[elem]}\")\n"
   ]
  },
  {
   "cell_type": "markdown",
   "id": "1eae6299",
   "metadata": {},
   "source": [
    "## Análisis del ejercicio asignado <a name=\"parte1.2\"></a>"
   ]
  },
  {
   "cell_type": "markdown",
   "id": "4e9717da",
   "metadata": {},
   "source": [
    "### Calificá de acuerdo a las siguientes pautas:"
   ]
  },
  {
   "cell_type": "code",
   "execution_count": 2,
   "id": "2762a6c2",
   "metadata": {
    "scrolled": true
   },
   "outputs": [],
   "source": [
    "# Puntos acumulados del trabajo de mi conpañero/a\n",
    "puntos_parte_I = 0"
   ]
  },
  {
   "cell_type": "markdown",
   "id": "fb152d91",
   "metadata": {},
   "source": [
    "1.- **¿El algoritmo para el procesamiento de datos en el archivo es correcto?¿Resuelve la consulta planteada?:** +10 puntos\n",
    "\n",
    "- Sumá 10 puntos si el código es correcto, inpendientemente si sigue con todas las indicaciones como lo pide el enunciado.\n"
   ]
  },
  {
   "cell_type": "code",
   "execution_count": 3,
   "id": "00a9cdca",
   "metadata": {
    "scrolled": true
   },
   "outputs": [],
   "source": [
    "# puntos a sumar de esta consigna:\n",
    "puntos_parte_I += 10"
   ]
  },
  {
   "cell_type": "markdown",
   "id": "43ba367c",
   "metadata": {},
   "source": [
    "2.-**¿Define la función de acuerdo a lo pedido? (respecto a la definición de parámetros, y valores retornados)**: +5 puntos\n",
    "\n",
    "- Sumá 2.5 puntos: si lo hace pero presenta algún error (indicá cuál es el error).\n",
    "\n",
    "- Sumá 5 puntos: si está correcto"
   ]
  },
  {
   "cell_type": "code",
   "execution_count": 4,
   "id": "590a4742",
   "metadata": {
    "scrolled": true
   },
   "outputs": [],
   "source": [
    "# puntos a sumar de esta consigna:\n",
    "puntos_parte_I += 5"
   ]
  },
  {
   "cell_type": "markdown",
   "id": "577b576a",
   "metadata": {},
   "source": [
    "3.-**¿Genera el listado de acuerdo a lo pedido?¿Respeta el formato propuesto?**: +5 puntos\n",
    "\n",
    "- Sumá 2.5 puntos: si lo hace pero presenta algún error (indicá cuál es el error).\n",
    "\n",
    "- Sumá 5 puntos: si está correcto"
   ]
  },
  {
   "cell_type": "code",
   "execution_count": 5,
   "id": "e3963e5d",
   "metadata": {
    "scrolled": true
   },
   "outputs": [],
   "source": [
    "# puntos a sumar de esta consigna:\n",
    "puntos_parte_I += 5"
   ]
  },
  {
   "cell_type": "markdown",
   "id": "e619052f",
   "metadata": {},
   "source": [
    "4- **Sobre el acceso al archivo de datos:** -10  a 5 puntos\n",
    "\n",
    "- Descontá 5 puntos si lo abre utilizando una ruta absoluta (ejemplo: /home/archivo/archivo.csv).\n",
    "- Descontá 5 puntos si no se cierra el archivo.\n",
    "- Sumá 5 puntos si usa la sentencia with y lo hace en forma correcta.\n",
    "- Sumá 5 puntos si abre correctamente el archivo (sin with) y lo cierra."
   ]
  },
  {
   "cell_type": "code",
   "execution_count": 16,
   "id": "b55c9896",
   "metadata": {
    "scrolled": true
   },
   "outputs": [],
   "source": [
    "# puntos a sumar de esta consigna:\n",
    "puntos_parte_I += 5"
   ]
  },
  {
   "attachments": {},
   "cell_type": "markdown",
   "id": "1670ee4b",
   "metadata": {},
   "source": [
    "5.- **Alguna otra falla o detalles que quieras marcar?**: - 5 puntos\n",
    "\n",
    "- Especificá cuál es el error que encontrás:\n",
    "\n",
    "Es un detalle, pero la función retornar_usuarios no tiene docstring. Los docstring son importantes para mejorar la legibiidad del codigo y la compresión tanto para otros programadores, como para uno mismo.\n",
    "\n",
    "También, otro detalle, hizo else y dentro un if, en vez de un 'elif'"
   ]
  },
  {
   "cell_type": "code",
   "execution_count": 13,
   "id": "1e985faa",
   "metadata": {
    "scrolled": true
   },
   "outputs": [],
   "source": [
    "# puntos a descontar de esta consigna:\n",
    "puntos_parte_I -= 0"
   ]
  },
  {
   "cell_type": "markdown",
   "id": "50b1c6fc",
   "metadata": {},
   "source": [
    "### Total de puntos de la actividad (parte I) del trabajo asignado:"
   ]
  },
  {
   "cell_type": "code",
   "execution_count": 18,
   "id": "afbe1851",
   "metadata": {
    "scrolled": true
   },
   "outputs": [
    {
     "name": "stdout",
     "output_type": "stream",
     "text": [
      "Puntos actividad 1 - Parte I: 20\n"
     ]
    }
   ],
   "source": [
    "print(f\"Puntos actividad 1 - Parte I: {puntos_parte_I if puntos_parte_I >0 else 0}\")"
   ]
  },
  {
   "cell_type": "markdown",
   "id": "34aa40a5",
   "metadata": {},
   "source": [
    "### ¿Algo más que no fue considerado?"
   ]
  },
  {
   "cell_type": "markdown",
   "id": "1e1f3415",
   "metadata": {},
   "source": [
    "--- Dejá acá tus comentarios ---"
   ]
  },
  {
   "cell_type": "markdown",
   "id": "dc26afe2",
   "metadata": {},
   "source": [
    "## Corrección de la evaluación realizada - Total 20 puntos <a name=\"parte2.1\"></a>"
   ]
  },
  {
   "cell_type": "code",
   "execution_count": 14,
   "id": "a397db33",
   "metadata": {
    "scrolled": true
   },
   "outputs": [],
   "source": [
    "# Puntos acumulados de mi parte II    - A COMPLETAR POR LA CATEDRA -\n",
    "puntos_parte_II = 0"
   ]
  },
  {
   "cell_type": "markdown",
   "id": "93b1dce8",
   "metadata": {},
   "source": [
    "### Corrección de la parte I de mi compañero/a: 10 puntos\n",
    "\n",
    "- Suma 10 puntos si la evaluación realizada es correcta.\n",
    "- Suma 5 puntos si el manejo de arhivos está mal evaluado, pero el resto es correcto.\n",
    "- Suma 5 puntos si la definición de la función está mal evaluada pero el resto es correcto. "
   ]
  },
  {
   "cell_type": "code",
   "execution_count": 15,
   "id": "8ebab756",
   "metadata": {
    "scrolled": true
   },
   "outputs": [],
   "source": [
    "# Sumo puntos de la sección - A COMPLETAR POR LA CATEDRA -\n",
    "puntos_parte_II += 10"
   ]
  },
  {
   "attachments": {},
   "cell_type": "markdown",
   "id": "b6836a8f",
   "metadata": {},
   "source": [
    "### Análisis de la  solución propuesta por mi compañero/a: 10 puntos\n",
    "\n",
    "Respondé: "
   ]
  },
  {
   "attachments": {},
   "cell_type": "markdown",
   "id": "3631026c",
   "metadata": {},
   "source": [
    "- **¿Qué estructuras de datos usa para el manejo de los datos ingresados desde el archivo?** 3 ptos.\n",
    "\n",
    "Se utiliza una estructura de diccionario para el manejo de los datos ingresados desde el archivo CSV.\n",
    "La elección es correcta, ya que así se tiene relacionado el nombre del usuario con la hora de acceso."
   ]
  },
  {
   "attachments": {},
   "cell_type": "markdown",
   "id": "19c84303",
   "metadata": {},
   "source": [
    "- **¿Usa expresiones lambda, funciones map, filter, reduce u otra similar? ¿Están correctamente definidas?** 2 ptos.\n",
    "\n",
    "Si, se usan expresiones lambda en conjunto con la función sorted, para ordenar el diccionario en función del parametro opcional \"orden\". \n",
    "\n",
    "Si, están correctamente definidas."
   ]
  },
  {
   "attachments": {},
   "cell_type": "markdown",
   "id": "ece79493",
   "metadata": {},
   "source": [
    "- **¿Recorre el archivo más de lo necesario para resolver el ejercicio? ¿Se podría haber hecho de una mejor forma? Justificá.** 5 ptos. si justificás.\n",
    "\n",
    "Recorre el archivo csv una única vez de principio a fin, y va cargando los datos al diccionario.\n",
    "Considero que la solución es correcta.\n",
    "\n"
   ]
  },
  {
   "cell_type": "code",
   "execution_count": 16,
   "id": "d63dc7e9",
   "metadata": {
    "scrolled": true
   },
   "outputs": [],
   "source": [
    "# Sumo puntos de la sección - A COMPLETAR POR LA CATEDRA -\n",
    "puntos_parte_II += 10"
   ]
  },
  {
   "cell_type": "markdown",
   "id": "29fdc855",
   "metadata": {},
   "source": [
    "## Escribí una solución alternativa a la planteada por tu compañero/a: 15 puntos <a name=\"parte2.2\"></a>\n",
    "**Esta solución será evaluada de acuerdo a las mismas pautas establecidas en este cuaderno.** (reduciendo proporcionalmente los puntos de cada sección, dado que el acá es 15 y no 25)"
   ]
  },
  {
   "cell_type": "code",
   "execution_count": 24,
   "metadata": {},
   "outputs": [
    {
     "name": "stdout",
     "output_type": "stream",
     "text": [
      "-----------------------------\n",
      "Usuario en el sistema   Hora\n",
      "-----------------------------\n",
      "Snorlax                22:52\n",
      "Weedle                 22:05\n",
      "Onix                   14:53\n",
      "Cloyster               13:28\n",
      "Beedrill               11:54\n",
      "Dragonite              11:45\n",
      "Zubat                  04:04\n"
     ]
    }
   ],
   "source": [
    "# Solución alternativa\n",
    "import csv\n",
    "\n",
    "def retornar_usuarios(orden = None):\n",
    "    \"\"\"Esta función retorna los usuarios que registraron accesos el 2 de abril y en qué horarios lo hicieron.\n",
    "    Recibe un parámetro opcional que indica el orden en que se ordenan los usuarios: \"A\", si se ordena en forma\n",
    "    ascendente, \"D\" si es descendente. Por defecto la función no ordena.\n",
    "    Si hay más accesos de un usuario ese día, sólo procesa el primero.\n",
    "    \"\"\"\n",
    "    usuarios = {}\n",
    "\n",
    "    with open('log_catedras.csv', 'r', encoding='utf-8') as archivo_csv:\n",
    "        csvreader = csv.reader(archivo_csv, delimiter=',')\n",
    "        next(csvreader) # Avanzo para no procesar el encabezado\n",
    "\n",
    "        for user in csvreader:\n",
    "            if user[0].startswith('2/04/2022') and user[1] not in usuarios:\n",
    "                nombre = user[1]\n",
    "                hora = user[0].split()[1]\n",
    "                usuarios[nombre] = hora\n",
    "\n",
    "    if orden == 'A':\n",
    "        usuarios = dict(sorted(usuarios.items(), key=lambda user: user[1]))\n",
    "    elif orden == 'D':\n",
    "        usuarios = dict(sorted(usuarios.items(), key=lambda user: user[1], reverse=True))\n",
    "\n",
    "    return usuarios\n",
    "\n",
    "usuarios = retornar_usuarios('D')\n",
    "\n",
    "print(\"-----------------------------\")\n",
    "print(\"Usuario en el sistema   Hora\")\n",
    "print(\"-----------------------------\")\n",
    "for usuario, hora in usuarios.items():\n",
    "    print(f\"{usuario:<22} {hora}\")\n"
   ]
  },
  {
   "cell_type": "code",
   "execution_count": 17,
   "id": "b61dae7c",
   "metadata": {
    "scrolled": true
   },
   "outputs": [],
   "source": [
    "# Sumo puntos de la sección - A COMPLETAR POR LA CATEDRA\n",
    "puntos_parte_II += 15"
   ]
  },
  {
   "cell_type": "markdown",
   "id": "7920e10b",
   "metadata": {},
   "source": [
    "## Uso de GPT - Total 5 puntos  <a name=\"parte2.3\"></a>\n",
    "\n",
    "\n",
    "**Mostrá una solución (o partes de la misma) dada por ChatGPT a este ejercicio.** (2.5 pts.)"
   ]
  },
  {
   "cell_type": "code",
   "execution_count": null,
   "id": "7f3abde7",
   "metadata": {},
   "outputs": [],
   "source": [
    "# Código dado por ChatGPT\n",
    "\n",
    "def get_user_access(day, order=None):\n",
    "    # Leer el archivo log_catedras.csv\n",
    "    with open('log_catedras.csv', 'r') as f:\n",
    "        lines = f.readlines()\n",
    "\n",
    "    # Crear una lista de diccionarios para almacenar los registros\n",
    "    records = []\n",
    "    for line in lines[1:]:\n",
    "        fields = line.strip().split(';')\n",
    "        record = {\n",
    "            'fecha': fields[0],\n",
    "            'hora': fields[1],\n",
    "            'usuario': fields[2],\n",
    "            'accion': fields[3],\n",
    "            'recurso': fields[4]\n",
    "        }\n",
    "        records.append(record)\n",
    "\n",
    "    # Seleccionar los registros del día especificado\n",
    "    day_records = [r for r in records if r['fecha'] == day]\n",
    "\n",
    "    # Eliminar registros duplicados de usuario\n",
    "    users = set()\n",
    "    unique_records = []\n",
    "    for record in day_records:\n",
    "        if record['usuario'] not in users:\n",
    "            users.add(record['usuario'])\n",
    "            unique_records.append(record)\n",
    "\n",
    "    # Ordenar la lista de registros según el parámetro de orden\n",
    "    if order == 'A':\n",
    "        unique_records = sorted(unique_records, key=lambda r: r['usuario'])\n",
    "    elif order == 'D':\n",
    "        unique_records = sorted(unique_records, key=lambda r: r['usuario'], reverse=True)\n",
    "\n",
    "    # Mostrar el resultado\n",
    "    print('----------------------------')\n",
    "    print('Usuario en el sistema   Hora')\n",
    "    print('----------------------------')\n",
    "    for record in unique_records:\n",
    "        print(f\"{record['usuario']:20s} {record['hora']}\")\n",
    "\n",
    "\n",
    "get_user_access('02/04/2023', order='None')"
   ]
  },
  {
   "cell_type": "markdown",
   "id": "9caf4a8f",
   "metadata": {},
   "source": [
    "**Respondé:** (2.5pts.)"
   ]
  },
  {
   "attachments": {},
   "cell_type": "markdown",
   "id": "92626791",
   "metadata": {},
   "source": [
    "1. **En la respuesta dada, ¿se incluyen funciones o métodos no dados por la cátedra?** (SI/NO)\n",
    "\n",
    "Si, utiliza un metodo de archivos de Python .readLines, que dicho por el mismo GPT (le pregunté) \"lee todas las líneas del archivo f y las almacena en una lista llamada lines. Cada elemento de la lista lines corresponde a una línea del archivo, incluyendo los saltos de línea \\n.\""
   ]
  },
  {
   "attachments": {},
   "cell_type": "markdown",
   "id": "18c77963",
   "metadata": {},
   "source": [
    "2. **¿Es entendible el código y la explicación propuesta?** SI/NO (si la respuesta es NO, indicá qué parte no se entiende)\n",
    "\n",
    "Si, es entendible.\n",
    "Sin embargo, me costó un poco de trabajo comprenderlo. Personalmente la resolución de mi compañero/a me pareció más fácil de entender que la de ChatGPT."
   ]
  },
  {
   "attachments": {},
   "cell_type": "markdown",
   "id": "7ba932f2",
   "metadata": {},
   "source": [
    "3. **Según esta experiencia, ¿podés decir si  el ejercicio que te tocó corregir fue resuelto con la ayuda de ChatGPT? ¿En qué te basás para responder esto?**\n",
    "\n",
    "Nadie podría afirmarlo con total seguridad, ya que no es una resolución extraña, y perfectamente se le podría haber ocurrido a mi compañero/a.\n",
    "Pero tal vez si, ya que la forma de ordenar según el parametro 'orden' es casi igual."
   ]
  },
  {
   "attachments": {},
   "cell_type": "markdown",
   "id": "ed9fc632",
   "metadata": {},
   "source": [
    "4. **Utilizaste la ayuda de ChatGPT para escribir la solución alternativa?** (SI/NO)\n",
    "\n",
    "Sí."
   ]
  },
  {
   "attachments": {},
   "cell_type": "markdown",
   "id": "6eeae749",
   "metadata": {},
   "source": [
    "5. **Si respondiste afirmativamente la respuesta anterior, ¿de qué forma lo usaste?**\n",
    "Posibles respuestas (podés mencionar otras): \n",
    "\n",
    "Lo usé para pedirle una manera alternativa de ordenar el diccionario por el parametro 'orden', ya que con la solución de mi compañero/a en mente, no se me ocurría otra.\n",
    "La solución dada por ChatGPT me pareció muy rebuscada, así que no la utilicé."
   ]
  },
  {
   "cell_type": "code",
   "execution_count": null,
   "id": "0229a240",
   "metadata": {},
   "outputs": [],
   "source": [
    "# Sumo puntos de la sección - A COMPLETAR POR LA CATEDRA - \n",
    "puntos_parte_II += 5"
   ]
  },
  {
   "cell_type": "markdown",
   "id": "b0ba1701",
   "metadata": {},
   "source": [
    "### Total puntos de la actividad"
   ]
  },
  {
   "cell_type": "code",
   "execution_count": 1,
   "id": "8248b652",
   "metadata": {
    "scrolled": true
   },
   "outputs": [
    {
     "ename": "NameError",
     "evalue": "name 'puntos_parte_II' is not defined",
     "output_type": "error",
     "traceback": [
      "\u001b[1;31m---------------------------------------------------------------------------\u001b[0m",
      "\u001b[1;31mNameError\u001b[0m                                 Traceback (most recent call last)",
      "Cell \u001b[1;32mIn[1], line 1\u001b[0m\n\u001b[1;32m----> 1\u001b[0m \u001b[39mprint\u001b[39m(\u001b[39mf\u001b[39m\u001b[39m\"\u001b[39m\u001b[39mPuntos actividad 1 - Parte II: \u001b[39m\u001b[39m{\u001b[39;00mpuntos_parte_II\u001b[39m \u001b[39m\u001b[39mif\u001b[39;00m\u001b[39m \u001b[39mpuntos_parte_II\u001b[39m \u001b[39m\u001b[39m>\u001b[39m\u001b[39m0\u001b[39m\u001b[39m \u001b[39m\u001b[39melse\u001b[39;00m\u001b[39m \u001b[39m\u001b[39m0\u001b[39m\u001b[39m}\u001b[39;00m\u001b[39m\"\u001b[39m)\n",
      "\u001b[1;31mNameError\u001b[0m: name 'puntos_parte_II' is not defined"
     ]
    }
   ],
   "source": [
    "print(f\"Puntos actividad 1 - Parte II: {puntos_parte_II if puntos_parte_II >0 else 0}\")"
   ]
  }
 ],
 "metadata": {
  "kernelspec": {
   "display_name": "Python 3 (ipykernel)",
   "language": "python",
   "name": "python3"
  },
  "language_info": {
   "codemirror_mode": {
    "name": "ipython",
    "version": 3
   },
   "file_extension": ".py",
   "mimetype": "text/x-python",
   "name": "python",
   "nbconvert_exporter": "python",
   "pygments_lexer": "ipython3",
   "version": "3.11.0"
  }
 },
 "nbformat": 4,
 "nbformat_minor": 5
}
